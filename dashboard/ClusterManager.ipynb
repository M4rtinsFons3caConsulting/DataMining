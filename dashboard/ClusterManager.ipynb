{
 "cells": [
  {
   "cell_type": "code",
   "execution_count": null,
   "id": "953cb4a0-ef5c-4398-b5fc-51b15cf92a41",
   "metadata": {},
   "outputs": [],
   "source": [
    "import joblib\n",
    "import os\n",
    "\n",
    "class ClusteringSolutionManager:\n",
    "    def __init__(self, storage_dir=\"clustering_solutions\"):\n",
    "        self.storage_dir = storage_dir\n",
    "        os.makedirs(self.storage_dir, exist_ok=True)\n",
    "\n",
    "    def save_solution(self, solution, file_name):\n",
    "        \"\"\"Save the clustering solution to a .pkl file.\"\"\"\n",
    "        file_path = os.path.join(self.storage_dir, file_name)\n",
    "        joblib.dump(solution, file_path)\n",
    "        print(f\"Solution saved to {file_path}\")\n",
    "\n",
    "    def load_solution(self, file_name):\n",
    "        \"\"\"Load the clustering solution from a .pkl file.\"\"\"\n",
    "        file_path = os.path.join(self.storage_dir, file_name)\n",
    "        if not os.path.exists(file_path):\n",
    "            raise FileNotFoundError(f\"No such file: {file_path}\")\n",
    "        solution = joblib.load(file_path)\n",
    "        print(f\"Solution loaded from {file_path}\")\n",
    "        return solution\n",
    "\n",
    "    def list_solutions(self):\n",
    "        \"\"\"List all saved clustering solutions.\"\"\"\n",
    "        return [f for f in os.listdir(self.storage_dir) if f.endswith('.pkl')]\n",
    "\n",
    "# Example usage:\n",
    "if __name__ == \"__main__\":\n",
    "    # Create a manager instance\n",
    "    manager = ClusteringSolutionManager()\n",
    "\n",
    "    # Example clustering solution (replace with your own clustering result)\n",
    "    clustering_result = {\"labels\": [0, 1, 1, 0], \"centroids\": [[1, 2], [3, 4]]}\n",
    "\n",
    "    # Save the clustering solution\n",
    "    manager.save_solution(clustering_result, \"example_solution.pkl\")\n",
    "\n",
    "    # List saved solutions\n",
    "    print(\"Available solutions:\", manager.list_solutions())\n",
    "\n",
    "    # Load the solution back\n",
    "    loaded_solution = manager.load_solution(\"example_solution.pkl\")\n",
    "    print(\"Loaded solution:\", loaded_solution)"
   ]
  }
 ],
 "metadata": {
  "kernelspec": {
   "display_name": "Python 3 (ipykernel)",
   "language": "python",
   "name": "python3"
  },
  "language_info": {
   "codemirror_mode": {
    "name": "ipython",
    "version": 3
   },
   "file_extension": ".py",
   "mimetype": "text/x-python",
   "name": "python",
   "nbconvert_exporter": "python",
   "pygments_lexer": "ipython3",
   "version": "3.12.5"
  }
 },
 "nbformat": 4,
 "nbformat_minor": 5
}
