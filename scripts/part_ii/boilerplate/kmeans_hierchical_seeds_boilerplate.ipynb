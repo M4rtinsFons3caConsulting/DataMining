{
 "cells": [
  {
   "cell_type": "markdown",
   "id": "03057ff5-af2f-4059-bf8a-bbf8380759aa",
   "metadata": {},
   "source": [
    "# Libraries"
   ]
  },
  {
   "cell_type": "code",
   "execution_count": null,
   "id": "5c168d6b-55da-4fe2-b1d3-f12d7a591a55",
   "metadata": {},
   "outputs": [],
   "source": [
    "import pandas as pd\n",
    "import numpy as np\n",
    "import seaborn as sns\n",
    "import matplotlib.pyplot as plt\n",
    "from scipy.cluster.hierarchy import dendrogram, linkage\n",
    "from sklearn.cluster import AgglomerativeClustering, KMeans\n",
    "from sklearn.metrics import silhouette_score"
   ]
  },
  {
   "cell_type": "markdown",
   "id": "9a1a3de2-3f4b-4986-aa67-a9053aeeae93",
   "metadata": {},
   "source": [
    "# Hierarchical"
   ]
  },
  {
   "cell_type": "code",
   "execution_count": null,
   "id": "57d1b0a6-6a41-4fec-8d22-7ec7c2be5f74",
   "metadata": {},
   "outputs": [],
   "source": [
    "# Function to calculate R² for a clustering solution\n",
    "def get_rsq(df, features, label_column):\n",
    "    \"\"\"Calculates R² for a clustering solution.\n",
    "    \n",
    "    R² = SSb / SSt\n",
    "    where:\n",
    "    SSb = between-group sum of squares\n",
    "    SSt = total sum of squares\n",
    "    \n",
    "    Parameters:\n",
    "    df (DataFrame): The dataframe containing the features and cluster labels\n",
    "    features (list): List of feature columns to consider\n",
    "    label_column (str): The column containing the cluster labels\n",
    "    \n",
    "    Returns:\n",
    "    float: R² value indicating homogeneity of the clusters\n",
    "    \"\"\"\n",
    "    # Total Sum of Squares (SSt)\n",
    "    mean = df[features].mean().values\n",
    "    sst = np.sum((df[features] - mean) ** 2)\n",
    "\n",
    "    # Between-group Sum of Squares (SSb)\n",
    "    ssb = 0\n",
    "    for label in df[label_column].unique():\n",
    "        group = df[df[label_column] == label]\n",
    "        group_mean = group[features].mean().values\n",
    "        ssb += len(group) * np.sum((group_mean - mean) ** 2)\n",
    "        \n",
    "    # R² Calculation\n",
    "    r2 = ssb / sst if sst != 0 else 0\n",
    "    return r2\n",
    "\n",
    "# Running R² Calculation for Different Hierarchical Clustering Methods\n",
    "hc_methods = [\"ward\", \"complete\", \"average\", \"single\"]\n",
    "max_nclus = 10\n",
    "\n",
    "# Initialize an empty list to store R² values for each method\n",
    "r2_hc = []\n",
    "\n",
    "# Compute R² for each clustering method and range of clusters\n",
    "for link in hc_methods:\n",
    "    r2_method = []\n",
    "    for i in range(1, max_nclus + 1):  # Loop over cluster counts\n",
    "        cluster = AgglomerativeClustering(n_clusters=i, metric=\"euclidean\", linkage=link)\n",
    "        \n",
    "        # Get cluster labels\n",
    "        hclabels = cluster.fit_predict(df) \n",
    "        \n",
    "        # Concatenate the df with the cluster labels\n",
    "        df_concat = pd.concat([df, pd.Series(hclabels, name='labels', index=df.index)], axis=1)  \n",
    "        \n",
    "        # Compute R² for the current number of clusters\n",
    "        r2_method.append(get_rsq(df_concat, df.columns.tolist(), 'labels'))\n",
    "    \n",
    "    r2_hc.append(r2_method)\n",
    "\n",
    "# Convert R² results into a numpy array for easier manipulation\n",
    "r2_hc = np.vstack(r2_hc)"
   ]
  },
  {
   "cell_type": "markdown",
   "id": "ab3f1053-eacc-4649-b34e-4456203e999f",
   "metadata": {},
   "source": [
    "## R²"
   ]
  },
  {
   "cell_type": "code",
   "execution_count": null,
   "id": "73ea30a0-e1d8-4fbf-82ba-aade8febd595",
   "metadata": {},
   "outputs": [],
   "source": [
    "# Plotting the R² values for Hierarchical Clustering Methods\n",
    "sns.set()\n",
    "\n",
    "# Create a figure for the plot\n",
    "fig = plt.figure(figsize=(11, 5))\n",
    "\n",
    "# Plot the R² values for each clustering method\n",
    "for i, link in enumerate(hc_methods):\n",
    "    sns.lineplot(data=r2_hc[i], linewidth=2.5, markers=[\"o\"] * max_nclus, label=link)\n",
    "\n",
    "# Finalize the plot\n",
    "plt.legend(title=\"HC Methods\", title_fontsize=11)\n",
    "plt.xticks(range(1, max_nclus + 1))\n",
    "plt.xlabel(\"Number of Clusters\", fontsize=13)\n",
    "plt.ylabel(\"R² Metric\", fontsize=13)\n",
    "fig.suptitle(\"$R^2$ Plot for Various Hierarchical Methods\", fontsize=21)\n",
    "\n",
    "plt.show()"
   ]
  },
  {
   "cell_type": "markdown",
   "id": "ac8fa6eb-bf37-46b0-be70-d832c62b40f9",
   "metadata": {},
   "source": [
    "## Dendrogram"
   ]
  },
  {
   "cell_type": "code",
   "execution_count": null,
   "id": "111a997a-8a25-4015-910b-da159c306061",
   "metadata": {},
   "outputs": [],
   "source": [
    "# Plotting the Dendrogram for Hierarchical Clustering\n",
    "# Using the 'ward' method for dendrogram plotting (you can adjust this method)\n",
    "linkage_matrix = linkage(df.values, method=\"ward\", metric=\"euclidean\")\n",
    "\n",
    "sns.set()\n",
    "fig = plt.figure(figsize=(11, 5))\n",
    "# Set a threshold for cutting the dendrogram\n",
    "y_threshold = 5\n",
    "dendrogram(linkage_matrix, truncate_mode='level', p=5, color_threshold=y_threshold, above_threshold_color='k')\n",
    "plt.hlines(y_threshold, 0, 1000, colors=\"r\", linestyles=\"dashed\")\n",
    "plt.title(f'Hierarchical Clustering Dendrogram: Ward Linkage', fontsize=21)\n",
    "plt.xlabel('Number of Points in Node')\n",
    "plt.ylabel(f'Euclidean Distance', fontsize=13)\n",
    "plt.show()"
   ]
  },
  {
   "cell_type": "markdown",
   "id": "1898f0c7-c601-41e1-ada2-e23d9478b2f6",
   "metadata": {},
   "source": [
    "# Kmeans - with Hiearchical Clustering init"
   ]
  },
  {
   "cell_type": "markdown",
   "id": "a9040d54-228d-4092-a005-5b7e7cbdce3a",
   "metadata": {},
   "source": [
    "## Centroid Seeds"
   ]
  },
  {
   "cell_type": "code",
   "execution_count": null,
   "id": "44fdbcfe-3203-4245-b23c-d091a55c7a00",
   "metadata": {},
   "outputs": [],
   "source": [
    "n_clusters = 4  # Example number of clusters chosen\n",
    "\n",
    "# Get the labels from hierarchical chosen clustering solution\n",
    "cluster = AgglomerativeClustering(n_clusters=n_clusters, metric=\"euclidean\", linkage=\"ward\") # Example params\n",
    "hc_labels = cluster.fit_predict(df)\n",
    "\n",
    "# Calculate centroids based on these hierarchical clusters\n",
    "centroids = []\n",
    "for i in range(n_clusters):\n",
    "    cluster_points = df[hc_labels == i]  # Get points belonging to cluster i\n",
    "    centroid = cluster_points.mean(axis=0)  # Calculate the mean of these points (centroid)\n",
    "    centroids.append(centroid)\n",
    "\n",
    "centroids = np.array(centroids)\n"
   ]
  },
  {
   "cell_type": "markdown",
   "id": "8a0e5b7d-2d97-450d-a42e-3def364f9ed8",
   "metadata": {},
   "source": [
    "## Kmeans"
   ]
  },
  {
   "cell_type": "code",
   "execution_count": null,
   "id": "445e9087-bda3-440f-8d3e-3807e1dc3975",
   "metadata": {},
   "outputs": [],
   "source": [
    "# Hierarchical Clustreing centroids as seeds for Kmeans init\n",
    "kmeans = KMeans(n_clusters=n_clusters, init=centroids, n_init=1)  # n_init=1 since we are providing initial centroids\n",
    "kmeans.fit(df)\n",
    "\n",
    "# Calculate the silhouette score to evaluate clustering\n",
    "silhouette_avg = silhouette_score(df, kmeans_labels)\n",
    "print(f\"Silhouette Score: {silhouette_avg}\")"
   ]
  },
  {
   "cell_type": "code",
   "execution_count": null,
   "id": "8e59c407-1304-4090-a355-694184838fe1",
   "metadata": {},
   "outputs": [],
   "source": [
    "# KMeans cluster labels\n",
    "kmeans_labels = kmeans.labels_\n",
    "\n",
    "# KMeans centroids after fitting\n",
    "kmeans_centroids = kmeans.cluster_centers_\n",
    "print(\"KMeans Centroids:\")\n",
    "print(kmeans_centroids)"
   ]
  }
 ],
 "metadata": {
  "kernelspec": {
   "display_name": "Python 3 (ipykernel)",
   "language": "python",
   "name": "python3"
  },
  "language_info": {
   "codemirror_mode": {
    "name": "ipython",
    "version": 3
   },
   "file_extension": ".py",
   "mimetype": "text/x-python",
   "name": "python",
   "nbconvert_exporter": "python",
   "pygments_lexer": "ipython3",
   "version": "3.12.4"
  }
 },
 "nbformat": 4,
 "nbformat_minor": 5
}
