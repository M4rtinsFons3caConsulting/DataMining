{
 "cells": [
  {
   "cell_type": "markdown",
   "id": "962076a9-5dfd-4b65-9474-94f71b5a3288",
   "metadata": {},
   "source": [
    "## Libraries"
   ]
  },
  {
   "cell_type": "code",
   "execution_count": null,
   "id": "9add1cb6-417c-44f7-adbc-193789a0eae8",
   "metadata": {},
   "outputs": [],
   "source": [
    "import numpy as np\n",
    "from sklearn.decomposition import FactorAnalysis\n",
    "from sklearn.model_selection import train_test_split"
   ]
  },
  {
   "cell_type": "markdown",
   "id": "9658a6ca-6b19-4e8a-adba-f803011e760c",
   "metadata": {},
   "source": [
    "## Declaration"
   ]
  },
  {
   "cell_type": "code",
   "execution_count": null,
   "id": "b1586d56-57f6-4f1b-8c02-9872946f2a66",
   "metadata": {},
   "outputs": [],
   "source": [
    "fa_variables = \\\n",
    "[\n",
    " 'log_american',\n",
    " 'log_beverages',\n",
    " 'log_cafe',\n",
    " 'log_chicken_dishes',\n",
    " 'log_chinese',\n",
    " 'log_desserts',\n",
    " 'log_healthy',\n",
    " 'log_indian',\n",
    " 'log_italian',\n",
    " 'log_japanese',\n",
    " 'log_noodle_dishes',\n",
    " 'log_other',\n",
    " 'log_street_food_snacks',\n",
    " 'log_thai'\n",
    "]\n",
    "\n",
    "fa_data = data[fa_variables]"
   ]
  },
  {
   "cell_type": "markdown",
   "id": "0eff1376-b7d4-4ab3-bef7-6f927c0368f6",
   "metadata": {},
   "source": [
    "## Fit"
   ]
  },
  {
   "cell_type": "code",
   "execution_count": null,
   "id": "cca6e404-38ab-4340-8179-af86e6043eb8",
   "metadata": {},
   "outputs": [],
   "source": [
    "# Parameters\n",
    "n_components_values = [1, 2, 3]  # Number of components to evaluate\n",
    "\n",
    "# Function to evaluate Factor Analysis for a given number of components\n",
    "def evaluate_factor_analysis(X_train, X_val, n_components):\n",
    "    \"\"\"\n",
    "    Fit a FactorAnalysis model on the training data and evaluate on validation data.\n",
    "\n",
    "    Parameters:\n",
    "    - X_train: Training data\n",
    "    - X_val: Validation data\n",
    "    - n_components: Number of components for FactorAnalysis\n",
    "\n",
    "    Returns:\n",
    "    - log_likelihood: Log-likelihood of the model on validation data\n",
    "    \"\"\"\n",
    "    fa = FactorAnalysis(\n",
    "        n_components=n_components,\n",
    "        tol=0.001,\n",
    "        max_iter=10000,\n",
    "        svd_method='lapack',\n",
    "        iterated_power=3,\n",
    "        rotation='varimax',\n",
    "        random_state=0\n",
    "    )\n",
    "    fa.fit(X_train)\n",
    "    log_likelihood = fa.score(X_val)\n",
    "    return log_likelihood\n",
    "\n",
    "# Split data into train and validation sets (retain feature names)\n",
    "X_train, X_val = train_test_split(X, test_size=0.2, random_state=30)\n",
    "\n",
    "# Evaluate Factor Analysis for each number of components\n",
    "results_list = []\n",
    "for n_components in n_components_values:\n",
    "    log_likelihood = evaluate_factor_analysis(X_train, X_val, n_components)\n",
    "    results_list.append({'n_components': n_components, 'log_likelihood': log_likelihood})\n",
    "    print(f\"n_components: {n_components}, log_likelihood: {log_likelihood}\")\n",
    "\n",
    "# Print summary of results\n",
    "print(\"\\nResults:\")\n",
    "for result in results_list:\n",
    "    print(result)\n",
    "\n",
    "# Find the optimal number of components\n",
    "best_result = max(results_list, key=lambda x: x['log_likelihood'])\n",
    "print(\n",
    "    f\"\\nOptimal number of components: {best_result['n_components']} \"\n",
    "    f\"with log-likelihood: {best_result['log_likelihood']}\"\n",
    ")\n",
    "\n",
    "# Train the final FactorAnalysis model with the optimal number of components\n",
    "optimal_fa = FactorAnalysis(\n",
    "    n_components=best_result['n_components'],\n",
    "    tol=0.001,\n",
    "    max_iter=10000,\n",
    "    svd_method='lapack',\n",
    "    iterated_power=3,\n",
    "    rotation='varimax',\n",
    "    random_state=0\n",
    ")\n",
    "\n"
   ]
  },
  {
   "cell_type": "markdown",
   "id": "0eddea1b-cc5e-44b9-b9d4-2c3a1dc5cff7",
   "metadata": {},
   "source": [
    "## Get Optimal"
   ]
  },
  {
   "cell_type": "code",
   "execution_count": null,
   "id": "312059ca-7a40-403e-ae2d-f084755d0c97",
   "metadata": {},
   "outputs": [],
   "source": [
    "optimal_fa.get_params()\n",
    "optimal_fa.get_feature_names_out()\n",
    "new_data = optimal_fa.transform(fa_data)\n",
    "pd.DataFrame(new_data).head()\n",
    "pd.DataFrame(optimal_fa.components_)"
   ]
  }
 ],
 "metadata": {
  "kernelspec": {
   "display_name": "Python 3 (ipykernel)",
   "language": "python",
   "name": "python3"
  },
  "language_info": {
   "codemirror_mode": {
    "name": "ipython",
    "version": 3
   },
   "file_extension": ".py",
   "mimetype": "text/x-python",
   "name": "python",
   "nbconvert_exporter": "python",
   "pygments_lexer": "ipython3",
   "version": "3.12.5"
  }
 },
 "nbformat": 4,
 "nbformat_minor": 5
}
