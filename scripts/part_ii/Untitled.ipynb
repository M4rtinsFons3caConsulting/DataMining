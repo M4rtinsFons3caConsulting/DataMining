{
 "cells": [
  {
   "cell_type": "markdown",
   "id": "dbd02f2c-4e27-4365-8f4d-97ce583f8d26",
   "metadata": {},
   "source": [
    "## Scoring"
   ]
  },
  {
   "cell_type": "code",
   "execution_count": null,
   "id": "188caf3e-c0b6-4fb4-98a7-d91a3ebb666d",
   "metadata": {},
   "outputs": [],
   "source": [
    "# using R²\n",
    "def get_ss(df):\n",
    "    ss = np.sum(df.var() * (df.count() - 1))\n",
    "    return ss  # return sum of sum of squares of each df variable\n",
    "\n",
    "sst = get_ss(df_concat.drop(columns='labels'))  # get total sum of squares\n",
    "ssw_labels = df_concat.groupby(by='labels').apply(get_ss)  # compute ssw for each cluster labels\n",
    "ssb = sst - np.sum(ssw_labels)\n",
    "r2 = ssb / sst\n",
    "r2"
   ]
  },
  {
   "cell_type": "markdown",
   "id": "0e6bb59c-6f4f-4132-b487-d2220bba9d3f",
   "metadata": {},
   "source": [
    "## Profiling"
   ]
  },
  {
   "cell_type": "code",
   "execution_count": null,
   "id": "06382c50-0bfd-4ebb-9990-e5e4fd46f85c",
   "metadata": {},
   "outputs": [],
   "source": [
    "# Create dataframe with profiling columns\n",
    "sd_after_profiling = pd.merge(\n",
    "    df_concat\n",
    "    ,regulars[\n",
    "        [col for col in regulars.columns if col.startswith('last_promo_')]\n",
    "        +[col for col in regulars.columns if col.startswith('pay_method_')]\n",
    "        +[col for col in regulars.columns if col.startswith('cust_city_')]\n",
    "        +[col for col in regulars.columns if col.startswith('cust_region_')]\n",
    "        +[col for col in regulars.columns if col.startswith('age_bucket_')]\n",
    "    ]\n",
    "    ,left_index=True\n",
    "    ,right_index=True\n",
    "    ,how='left'\n",
    ")"
   ]
  },
  {
   "cell_type": "code",
   "execution_count": null,
   "id": "c158d44f-efca-46e4-bdb7-6edafbbbc4e3",
   "metadata": {},
   "outputs": [],
   "source": [
    "# Define the columns for each profile\n",
    "profiling = {\n",
    "    'Promotion': [col for col in sd_after_profiling.columns if col.startswith('last_promo_')]\n",
    "    ,'Payment Method': [col for col in sd_after_profiling.columns if col.startswith('pay_method_')]\n",
    "    ,'City': [col for col in sd_after_profiling.columns if col.startswith('cust_city_')]\n",
    "    ,'Region': [col for col in sd_after_profiling.columns if col.startswith('cust_region_')]\n",
    "    ,'Age': [col for col in sd_after_profiling.columns if col.startswith('age_bucket_')]\n",
    "}"
   ]
  },
  {
   "cell_type": "code",
   "execution_count": null,
   "id": "33daa7a2-15b0-4c3b-9529-95e52fed4524",
   "metadata": {},
   "outputs": [],
   "source": [
    "for profile, col in profiling.items():\n",
    "    cluster_profile = sd_after_profiling.groupby('labels')[col].mean()\n",
    "\n",
    "    # Display cluster profiling\n",
    "    print(f'Cluster Profiling Based on {profile}')\n",
    "    display(cluster_profile)"
   ]
  },
  {
   "cell_type": "markdown",
   "id": "143155bf-a648-4546-88f0-da23d0542c4c",
   "metadata": {},
   "source": [
    "## Explaining the Clusters"
   ]
  },
  {
   "cell_type": "code",
   "execution_count": null,
   "id": "cc580bdc-5d30-436c-b8a4-3cf1475dd29a",
   "metadata": {},
   "outputs": [],
   "source": [
    "# Load the scaler\n",
    "scaler = joblib.load('std_scaler.pkl')"
   ]
  },
  {
   "cell_type": "code",
   "execution_count": null,
   "id": "3e6d6d2d-ec45-45f0-9c56-2303138c02ae",
   "metadata": {},
   "outputs": [],
   "source": [
    "numeric = [\n",
    "    'cust_age', 'n_vendor', 'n_product', 'n_chain', 'first_order',\n",
    "    'last_order', 'american', 'asian', 'beverages', 'cafe',\n",
    "    'chicken_dishes', 'chinese', 'desserts', 'healthy', 'indian', 'italian',\n",
    "    'japanese', 'noodle_dishes', 'other', 'street_food_snacks', 'thai',\n",
    "    'DOW_0', 'DOW_1', 'DOW_2', 'DOW_3', 'DOW_4', 'DOW_5', 'DOW_6', 'HR_0',\n",
    "    'HR_1', 'HR_2', 'HR_3', 'HR_4', 'HR_5', 'HR_6', 'HR_7', 'HR_8', 'HR_9',\n",
    "    'HR_10', 'HR_11', 'HR_12', 'HR_13', 'HR_14', 'HR_15', 'HR_16', 'HR_17',\n",
    "    'HR_18', 'HR_19', 'HR_20', 'HR_21', 'HR_22', 'HR_23', 'total_amt',\n",
    "    'n_order', 'avg_amt_per_product', 'avg_amt_per_order',\n",
    "    'avg_amt_per_vendor', 'days_cust', 'avg_days_to_order', 'days_due',\n",
    "    'per_chain_order', 'n_days_week', 'n_times_day', 'n_cuisines',\n",
    "    'log_n_vendor', 'log_n_product', 'log_n_chain', 'log_american',\n",
    "    'log_asian', 'log_beverages', 'log_cafe', 'log_chicken_dishes',\n",
    "    'log_chinese', 'log_desserts', 'log_healthy', 'log_indian',\n",
    "    'log_italian', 'log_japanese', 'log_noodle_dishes', 'log_other',\n",
    "    'log_street_food_snacks', 'log_thai', 'log_total_amt', 'log_n_order',\n",
    "    'log_avg_amt_per_product', 'log_avg_amt_per_order',\n",
    "    'log_avg_amt_per_vendor', 'log_n_days_week', 'log_n_times_day',\n",
    "    'avg_amt_per_day', 'avg_product_per_day', 'avg_order_per_day'\n",
    "]"
   ]
  },
  {
   "cell_type": "code",
   "execution_count": null,
   "id": "554de955-e4ef-4aa2-8178-35f4a8d7af94",
   "metadata": {},
   "outputs": [],
   "source": [
    "# Revert the scaler\n",
    "aux_unscaled_df = pd.DataFrame(scaler.inverse_transform(regulars[numeric]), columns=numeric, index=regulars.index)"
   ]
  },
  {
   "cell_type": "code",
   "execution_count": null,
   "id": "594428c0-ba43-4d8a-8bb7-90b7fa1e6ee8",
   "metadata": {},
   "outputs": [],
   "source": [
    "indices = df_concat.index"
   ]
  },
  {
   "cell_type": "code",
   "execution_count": null,
   "id": "e8194cd1-939d-47af-983c-49c135d87217",
   "metadata": {},
   "outputs": [],
   "source": [
    "aux_unscaled_df = aux_unscaled_df.loc[indices]"
   ]
  },
  {
   "cell_type": "code",
   "execution_count": null,
   "id": "8cf24839-7862-4e8c-a6a3-e4e425e61ed2",
   "metadata": {},
   "outputs": [],
   "source": [
    "# Transform the dataset with unscaled values for easier interpretation\n",
    "for col in ['total_amt', 'n_cuisines', 'n_vendor', 'n_product']:\n",
    "    df_concat[col] = aux_unscaled_df[col]"
   ]
  },
  {
   "cell_type": "code",
   "execution_count": null,
   "id": "7a5902ff-58f3-4fa0-bdd6-51461384dd9e",
   "metadata": {},
   "outputs": [],
   "source": [
    "df_concat.groupby('labels').agg(['min', 'max', 'mean'])"
   ]
  },
  {
   "cell_type": "code",
   "execution_count": null,
   "id": "27d5d93d-2e01-42b4-847a-c7862324d3f3",
   "metadata": {},
   "outputs": [],
   "source": []
  },
  {
   "cell_type": "code",
   "execution_count": null,
   "id": "ef42dab0-70a3-462a-9e0f-8229c121a3b1",
   "metadata": {},
   "outputs": [],
   "source": []
  },
  {
   "cell_type": "code",
   "execution_count": null,
   "id": "e7f20ed0-000b-4bec-bf04-9acabd1a59cd",
   "metadata": {},
   "outputs": [],
   "source": []
  },
  {
   "cell_type": "code",
   "execution_count": null,
   "id": "6dd10c98-cb8f-4f44-98aa-21b485948c5e",
   "metadata": {},
   "outputs": [],
   "source": []
  },
  {
   "cell_type": "code",
   "execution_count": null,
   "id": "c700303b-15e9-4b99-96e4-a7ccc71ec55e",
   "metadata": {},
   "outputs": [],
   "source": []
  },
  {
   "cell_type": "code",
   "execution_count": null,
   "id": "f2073c75-8a9a-4dfc-9306-f7dc265c1f97",
   "metadata": {},
   "outputs": [],
   "source": []
  },
  {
   "cell_type": "code",
   "execution_count": null,
   "id": "89c4fc6a-6b1b-4bda-9318-5f43573e0a39",
   "metadata": {},
   "outputs": [],
   "source": []
  },
  {
   "cell_type": "code",
   "execution_count": null,
   "id": "995f841d-414e-47fe-926c-474d5e935e55",
   "metadata": {},
   "outputs": [],
   "source": []
  },
  {
   "cell_type": "code",
   "execution_count": null,
   "id": "421c1565-b7b4-40c3-8b05-cd6fd65b0b79",
   "metadata": {},
   "outputs": [],
   "source": []
  },
  {
   "cell_type": "code",
   "execution_count": null,
   "id": "6c9da4a4-767d-44b7-9a56-67cf9b3e6a7a",
   "metadata": {},
   "outputs": [],
   "source": []
  },
  {
   "cell_type": "code",
   "execution_count": null,
   "id": "bc82788a-1145-4238-abb3-e67ae7debd31",
   "metadata": {},
   "outputs": [],
   "source": []
  }
 ],
 "metadata": {
  "kernelspec": {
   "display_name": "Python 3 (ipykernel)",
   "language": "python",
   "name": "python3"
  },
  "language_info": {
   "codemirror_mode": {
    "name": "ipython",
    "version": 3
   },
   "file_extension": ".py",
   "mimetype": "text/x-python",
   "name": "python",
   "nbconvert_exporter": "python",
   "pygments_lexer": "ipython3",
   "version": "3.12.5"
  }
 },
 "nbformat": 4,
 "nbformat_minor": 5
}
