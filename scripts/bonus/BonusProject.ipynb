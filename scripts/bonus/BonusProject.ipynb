{
 "cells": [
  {
   "cell_type": "markdown",
   "metadata": {},
   "source": [
    "# **Dashboard**"
   ]
  },
  {
   "cell_type": "markdown",
   "metadata": {},
   "source": [
    "# 1. Imports and Loading"
   ]
  },
  {
   "cell_type": "code",
   "execution_count": 177,
   "metadata": {},
   "outputs": [],
   "source": [
    "# Import libraries\n",
    "import pandas as pd\n",
    "import numpy as np\n",
    "\n",
    "from dash import Dash, html, dash_table, dcc, callback, Output, Input, MATCH, callback_context\n",
    "import plotly.express as px\n",
    "import dash_bootstrap_components as dbc"
   ]
  },
  {
   "cell_type": "code",
   "execution_count": 178,
   "metadata": {},
   "outputs": [],
   "source": [
    "# Load the data\n",
    "df = pd.read_csv('/home/shadybea/OneDrive/General/Data Mining/Project/DM2425_ABCDEats_DATASET.csv')"
   ]
  },
  {
   "cell_type": "markdown",
   "metadata": {},
   "source": [
    "# 2. Data Transformations"
   ]
  },
  {
   "cell_type": "code",
   "execution_count": 179,
   "metadata": {},
   "outputs": [],
   "source": [
    "_rename_dict = {\n",
    "        'customer_region' : 'cust_region'\n",
    "        , 'payment_method' : 'pay_method'\n",
    "        , 'customer_age' : 'cust_age'\n",
    "        , 'vendor_count' : 'n_vendor'\n",
    "        , 'product_count' : 'n_product'\n",
    "        , 'n_order' : 'n_order'\n",
    "        , 'is_chain' : 'n_chain'\n",
    "        , 'CUI_American' : 'American'\n",
    "        , 'CUI_Asian' : 'Asian'\n",
    "        , 'CUI_Beverages' : 'Beverages'\n",
    "        , 'CUI_Cafe' : 'Cafe'\n",
    "        , 'CUI_Chicken Dishes' : 'Chicken Dishes'\n",
    "        , 'CUI_Chinese' : 'Chinese'\n",
    "        , 'CUI_Desserts' : 'Desserts'\n",
    "        , 'CUI_Healthy' : 'Healthy'\n",
    "        , 'CUI_Indian' : 'Indian'\n",
    "        , 'CUI_Italian' : 'Italian'\n",
    "        , 'CUI_Japanese' : 'Japanese'\n",
    "        , 'CUI_Noodle Dishes' : 'Noodle Dishes'\n",
    "        , 'CUI_OTHER' : 'OTHER'\n",
    "        , 'CUI_Street Food / Snacks' : 'Street Food / Snacks'\n",
    "        , 'CUI_Thai' : 'Thai'\n",
    "}\n",
    "\n",
    "# Rename the columns for easier reference\n",
    "df.rename(columns=_rename_dict, inplace=True)"
   ]
  },
  {
   "cell_type": "code",
   "execution_count": 180,
   "metadata": {},
   "outputs": [],
   "source": [
    "# Make the integer value of the customer hex values, the index. \n",
    "df['customer_id'] = df['customer_id'].apply(lambda x: int(x, 16))\n",
    "\n",
    "# Set 'customer_id' as the index\n",
    "df = df[~df['customer_id'].duplicated()].set_index('customer_id')"
   ]
  },
  {
   "cell_type": "code",
   "execution_count": 181,
   "metadata": {},
   "outputs": [],
   "source": [
    "# Fill missing values for first_order\n",
    "df.loc[df['first_order'].isna(), 'first_order'] = 0"
   ]
  },
  {
   "cell_type": "code",
   "execution_count": 182,
   "metadata": {},
   "outputs": [],
   "source": [
    "# Fill missing values for HR_0\n",
    "sum_week = df[[f\"DOW_{n}\" for n in range(7)]].sum(axis=1)\n",
    "sum_day = df[[f\"HR_{n}\" for n in range(24)]].sum(axis=1)\n",
    "\n",
    "df.loc[df['HR_0'].isna(), 'HR_0'] = (sum_week - sum_day)"
   ]
  },
  {
   "cell_type": "code",
   "execution_count": 183,
   "metadata": {},
   "outputs": [],
   "source": [
    "# has at least one vendor\n",
    "has_vendor = df['n_vendor'] != 0 \n",
    "\n",
    "# has at least one product\n",
    "has_product = df['n_product'] != 0 \n",
    "\n",
    "# purchase must have been made on a valid dow\n",
    "some_day = (df[[f\"DOW_{n}\" for n in range(7)]] != 0).any(axis = 1) \n",
    "\n",
    "# purchase must have been made at a valid hour\n",
    "some_hour = (df[[f\"HR_{n}\" for n in range(24)]] != 0).any(axis = 1)  \n",
    "\n",
    "# some type of cuisine must have been ordered\n",
    "some_food = (df[df.columns[9:24]] != 0).any(axis = 1) \n",
    "\n",
    "df = df[(has_vendor & has_product & some_day & some_hour & some_food)]  # And we drop these values"
   ]
  },
  {
   "cell_type": "code",
   "execution_count": 184,
   "metadata": {},
   "outputs": [],
   "source": [
    "# Customer Region\n",
    "df.loc[df['cust_region'] == '-', 'cust_region'] = '8670'\n",
    "df.loc[df['cust_region'].isin(['2440', '2490']), 'cust_region'] = '2400'\n",
    "\n",
    "# Add the feature Customer CIty\n",
    "df['cust_city'] = df['cust_region'].apply(lambda x: x[0])"
   ]
  },
  {
   "cell_type": "code",
   "execution_count": 185,
   "metadata": {},
   "outputs": [],
   "source": [
    "# Last Promo\n",
    "df.loc[df['last_promo'] == '-', 'last_promo'] = 'NO_PROMO'"
   ]
  },
  {
   "cell_type": "code",
   "execution_count": 186,
   "metadata": {},
   "outputs": [],
   "source": [
    "# Tidying up datatypes\n",
    "for col in df.iloc[:, 0:9]:\n",
    "    if col in ['last_promo', 'pay_method']:\n",
    "        df[col] = df[col].astype(object)\n",
    "    else:\n",
    "        df[col] = df[col].astype('Int64')\n",
    "\n",
    "for col in df.iloc[:, 9:24]:\n",
    "    df[col] = df[col].astype(float)\n",
    "\n",
    "for col in df.iloc[:, 24:]:\n",
    "    df[col] = df[col].astype('Int64')"
   ]
  },
  {
   "cell_type": "code",
   "execution_count": 187,
   "metadata": {},
   "outputs": [],
   "source": [
    "# Categorical variables\n",
    "non_metric_features = ['cust_region', 'last_promo', 'pay_method', 'cust_city']\n",
    "\n",
    "# Hour of day variables\n",
    "hour_features = df.columns[31:55].to_list()\n",
    "\n",
    "# Day of week variables\n",
    "day_features = df.columns[24:31].to_list()\n",
    "\n",
    "# Cuisine features\n",
    "cuisine_features = df.columns[9:24].to_list()\n",
    "\n",
    "# Metric variables, that are not above\n",
    "metric_features = df.columns.drop(non_metric_features).drop(hour_features).drop(day_features).drop(cuisine_features).to_list()"
   ]
  },
  {
   "cell_type": "code",
   "execution_count": 188,
   "metadata": {},
   "outputs": [],
   "source": [
    "# Total amount spent by customer on all types of cuisine\n",
    "df['total_amt'] = df[cuisine_features].sum(axis=1)\n",
    "\n",
    "# Number of orders made by the customer\n",
    "df['n_order'] = df[day_features].sum(axis=1)\n",
    "\n",
    "# Amount spent on average per product\n",
    "df['avg_amt_per_product'] = df['total_amt'] / df['n_product']\n",
    "\n",
    "# Amount spent on average per order\n",
    "df['avg_amt_per_order'] = df['total_amt'] / df['n_order']\n",
    "\n",
    "# Amount spent on average per vendor\n",
    "df['avg_amt_per_vendor'] = df['total_amt'] / df['n_vendor']\n",
    "\n",
    "# Total days as customer\n",
    "df['days_cust'] = df['last_order'] - df['first_order']\n",
    "\n",
    "# Average days between orders\n",
    "df['avg_days_to_order'] = df['days_cust'] / df['n_order']\n",
    "\n",
    "# Days the customer is due, according to their average days between orders\n",
    "df['days_due'] = 90 - df['last_order'] + df['avg_days_to_order']\n",
    "\n",
    "# Percentage of orders placed to restaurants that are part of a chain\n",
    "df['per_chain_order'] = df['n_chain'] / df['n_order']\n",
    "\n",
    "# And we add these tese features to the metric features list.\n",
    "metric_features.extend([\n",
    "    'n_order'\n",
    "    ,'per_chain_order'\n",
    "    ,'total_amt'\n",
    "    ,'avg_amt_per_order'\n",
    "    ,'avg_amt_per_product'\n",
    "    ,'avg_amt_per_vendor'\n",
    "    ,'days_cust'\n",
    "    ,'avg_days_to_order'\n",
    "    ,'days_due'\n",
    "])"
   ]
  },
  {
   "cell_type": "code",
   "execution_count": 189,
   "metadata": {},
   "outputs": [],
   "source": [
    "# Create a mask to check if each day column is populated\n",
    "mask = df[[f'DOW_{i}' for i in range(7)]] > 0\n",
    "\n",
    "# Sum over the mask to get the count of days with purchases for each row\n",
    "df.loc[:, 'n_days_week'] = mask.sum(axis=1)\n",
    "\n",
    "# Updating the list of metric features\n",
    "metric_features.append('n_days_week')"
   ]
  },
  {
   "cell_type": "code",
   "execution_count": 190,
   "metadata": {},
   "outputs": [],
   "source": [
    "# Create a mask to check if each hour column is populated\n",
    "mask = df[hour_features] > 0\n",
    "\n",
    "# Sum over the mask to get the count of hours with purchases for each row\n",
    "df.loc[:, 'n_times_day'] = mask.sum(axis=1)\n",
    "\n",
    "# Updating the list of metric features\n",
    "metric_features.append('n_times_day')"
   ]
  },
  {
   "cell_type": "code",
   "execution_count": 191,
   "metadata": {},
   "outputs": [],
   "source": [
    "# Flag customers who have purchased in more than one day\n",
    "df['regular'] = (df['days_cust'] > 1)\n",
    "\n",
    "non_metric_features.append('regular')"
   ]
  },
  {
   "cell_type": "code",
   "execution_count": 192,
   "metadata": {},
   "outputs": [],
   "source": [
    "# Create a mask where values are greater than zero (indicating an order)\n",
    "mask = df[cuisine_features] > 0\n",
    "\n",
    "# Use mask to get the number of cuisines for each row\n",
    "df.loc[:, 'n_cuisines'] = mask.sum(axis=1)\n",
    "\n",
    "# Updating the metric_features_list\n",
    "metric_features.append('n_cuisines')"
   ]
  },
  {
   "cell_type": "code",
   "execution_count": 193,
   "metadata": {},
   "outputs": [],
   "source": [
    "# Dropping specified columns and getting remaining columns as a list\n",
    "targets = df.drop(columns=[\n",
    "    'cust_age'\n",
    "    , 'first_order'\n",
    "    , 'last_order'\n",
    "    , 'days_cust'\n",
    "    , 'days_due'\n",
    "    , 'avg_days_to_order'\n",
    "    , 'per_chain_order'\n",
    "    , 'cust_region'\n",
    "    , 'cust_city'\n",
    "    , 'last_promo'\n",
    "    , 'pay_method'\n",
    "    , 'n_cuisines'\n",
    "    , 'regular'\n",
    "] + hour_features + day_features).columns.tolist()\n",
    "\n",
    "# Initialize an empty dfFrame to store log-transformed columns\n",
    "log_transformed = pd.DataFrame()\n",
    "\n",
    "# Apply log1p to each column in targets and add it to log_transformed with the prefix 'log_'\n",
    "for col in targets:\n",
    "    log_transformed[f\"log_{col}\"] = np.log1p(df[col])\n",
    "\n",
    "# We create a list of log_features to assist us in our exploration\n",
    "log_features = log_transformed.columns.tolist()\n",
    "\n",
    "# Concatenate the original dfFrame with the new log-transformed dfFrame\n",
    "df = pd.concat([df, log_transformed], axis=1)"
   ]
  },
  {
   "cell_type": "code",
   "execution_count": 194,
   "metadata": {},
   "outputs": [
    {
     "name": "stdout",
     "output_type": "stream",
     "text": [
      "Number of customers flagged as foodie: 2857\n",
      "Number of customers flagged as gluttonous: 648\n",
      "Number of customers flagged as loyal: 455\n"
     ]
    }
   ],
   "source": [
    "# Initialize dictionaries for feature groups with flags and relevant columns\n",
    "feature_groups = {\n",
    "    'foodie': ['n_vendor', 'n_product', 'n_order', 'n_cuisines'],\n",
    "    'gluttonous': ['avg_amt_per_order', 'total_amt', 'n_chain'],\n",
    "    'loyal': ['avg_amt_per_vendor'] + cuisine_features\n",
    "}\n",
    "\n",
    "\n",
    "# Create columns to hold the flags for each feature group\n",
    "df['foodie_flag'] = 0\n",
    "df['gluttonous_flag'] = 0\n",
    "df['loyal_flag'] = 0\n",
    "\n",
    "# Function to calculate IQR bounds\n",
    "def calculate_bounds(series):\n",
    "    Q1 = series.quantile(0.25)\n",
    "    Q3 = series.quantile(0.75)\n",
    "    IQR = Q3 - Q1\n",
    "    lower_bound = Q1 - 1.5 * IQR\n",
    "    upper_bound = Q3 + 1.5 * IQR\n",
    "    return lower_bound, upper_bound\n",
    "\n",
    "# Assign flags for each feature group\n",
    "for group, features in feature_groups.items():\n",
    "    for feature in features:\n",
    "        log_feature = f\"log_{feature}\"\n",
    "        \n",
    "        if feature == 'n_cuisines':\n",
    "            log_feature = feature\n",
    "        \n",
    "        lower_bound, upper_bound = calculate_bounds(df.loc[(df['regular'] == 1) & (df[feature] > 0), log_feature])\n",
    "        \n",
    "        # Mark outliers for each group\n",
    "        if group == 'foodie':\n",
    "            df.loc[df['regular'] == 1, 'foodie_flag'] |= (\n",
    "                df.loc[df['regular'] == 1, log_feature] > upper_bound\n",
    "            ).astype(int)\n",
    "        elif group == 'gluttonous':\n",
    "            df.loc[df['regular'] == 1, 'gluttonous_flag'] |= (\n",
    "                df.loc[df['regular'] == 1, log_feature] > upper_bound\n",
    "            ).astype(int)\n",
    "        elif group == 'loyal':\n",
    "            df.loc[df['regular'] == 1, 'loyal_flag'] |= (\n",
    "                df.loc[df['regular'] == 1, log_feature] > upper_bound\n",
    "            ).astype(int)\n",
    "\n",
    "# Display results\n",
    "for group in ['foodie_flag', 'gluttonous_flag', 'loyal_flag']:\n",
    "    print(f\"Number of customers flagged as {group.split('_')[0]}:\", df[group].sum())\n",
    "\n",
    "non_metric_features.extend([\n",
    "    'foodie_flag'\n",
    "    ,'gluttonous_flag'\n",
    "    ,'loyal_flag'\n",
    "])"
   ]
  },
  {
   "cell_type": "code",
   "execution_count": 195,
   "metadata": {},
   "outputs": [],
   "source": [
    "def top_n(row, col_list, n):\n",
    "    # Sort the specified columns in descending order\n",
    "    sorted_row = row[col_list].sort_values(ascending=False)\n",
    "\n",
    "    # Get the unique sorted values\n",
    "    unique_sorted_values = sorted_row.unique()\n",
    "\n",
    "    # Ensure there are enough unique values to determine the n-th largest\n",
    "    if len(unique_sorted_values) >= n:\n",
    "        nth_value = unique_sorted_values[n - 1]  # Get the n-th largest unique value\n",
    "\n",
    "        # If the n-th value is 0, return None\n",
    "        if nth_value == 0:\n",
    "            return None\n",
    "        \n",
    "        # If n > 1, check for uniqueness against the (n-1)-th largest\n",
    "        if n > 1:\n",
    "            prev_value = unique_sorted_values[n - 2]  # (n-1)-th largest unique value\n",
    "            # If nth_value is equal to the (n-1)-th value, we don't want to return it\n",
    "            if nth_value == prev_value:\n",
    "                return None\n",
    "        \n",
    "        # Return the index of the n-th largest value\n",
    "        return sorted_row[sorted_row == nth_value].index[0]\n",
    "\n",
    "    # Return None if conditions are not met\n",
    "    return None"
   ]
  },
  {
   "cell_type": "code",
   "execution_count": 196,
   "metadata": {},
   "outputs": [],
   "source": [
    "df['top_cuisine'] = df.apply(top_n, col_list=cuisine_features, n=1, axis=1)\n",
    "\n",
    "non_metric_features.append('top_cuisine')"
   ]
  },
  {
   "cell_type": "code",
   "execution_count": 197,
   "metadata": {},
   "outputs": [],
   "source": [
    "# Average amount spent per day as customer\n",
    "df['avg_amt_per_day'] = np.round(df['total_amt'] / df['days_cust'], 4)\n",
    "\n",
    "# Average number of products ordered per day as customer\n",
    "df['avg_product_per_day'] = np.round(df['n_product'] / df['days_cust'], 4)\n",
    "\n",
    "# Average number of orders per day as customer\n",
    "df['avg_order_per_day'] = np.round(df['n_order'] / df['days_cust'], 4)\n",
    "\n",
    "metric_features.extend([\n",
    "    'avg_amt_per_day'\n",
    "    ,'avg_product_per_day'\n",
    "    ,'avg_order_per_day'\n",
    "])"
   ]
  },
  {
   "cell_type": "code",
   "execution_count": 198,
   "metadata": {},
   "outputs": [],
   "source": [
    "df.loc[df['cust_age'].isna(), 'cust_age'] = df['cust_age'].mean().astype('int')"
   ]
  },
  {
   "cell_type": "code",
   "execution_count": 199,
   "metadata": {},
   "outputs": [],
   "source": [
    "# Creating age buckets\n",
    "df['age_bucket'] = np.where(\n",
    "    df['cust_age'] < 25, '15-24', np.where(\n",
    "        df['cust_age'] < 35, '25-34', np.where(\n",
    "            df['cust_age'] < 45, '35-44', np.where(\n",
    "                df['cust_age'] < 55, '45-54', np.where(\n",
    "                    df['cust_age'] < 65, '55-64', '65+'\n",
    "                )\n",
    "            )\n",
    "        )\n",
    "    )\n",
    ")\n",
    "\n",
    "non_metric_features.insert(4, 'age_bucket')"
   ]
  },
  {
   "cell_type": "markdown",
   "metadata": {},
   "source": [
    "# 3. Dashboard"
   ]
  },
  {
   "cell_type": "code",
   "execution_count": 432,
   "metadata": {},
   "outputs": [],
   "source": [
    "# Initialize the app\n",
    "external_stylesheet = [dbc.themes.VAPOR]\n",
    "app = Dash(__name__, external_stylesheets=external_stylesheet)"
   ]
  },
  {
   "cell_type": "code",
   "execution_count": 433,
   "metadata": {},
   "outputs": [],
   "source": [
    "applicable_columns = [col for col in df.columns if col not in non_metric_features]"
   ]
  },
  {
   "cell_type": "code",
   "execution_count": 434,
   "metadata": {},
   "outputs": [],
   "source": [
    "# App layout\n",
    "app.layout = dbc.Container([\n",
    "    dbc.Row([\n",
    "        html.Div('My Dashboard', className=\"text-primary text-center fs-3\")\n",
    "    ]),\n",
    "    dbc.Row([\n",
    "        dbc.Col([\n",
    "            dcc.Dropdown(\n",
    "                id='column-dropdown',\n",
    "                options=[{'label': col, 'value': col} for col in df.columns],\n",
    "                value=df.columns[0],  # Set default value to the first column\n",
    "                style={'max-width': '250px'}\n",
    "            )\n",
    "        ], width = 3),\n",
    "        # dbc.Col([\n",
    "        #     dcc.RangeSlider(\n",
    "        #         id='value-slider',\n",
    "        #         min=df[applicable_columns[0]].min(),\n",
    "        #         max=df[applicable_columns[0]].max(),\n",
    "        #         step=1,\n",
    "        #         marks={},\n",
    "        #         value=[df[applicable_columns[0]].min(), df[applicable_columns[0]].max()]\n",
    "        #     )\n",
    "        # ])\n",
    "    ], style={'margin-bottom': '15px'}),\n",
    "    dbc.Row([\n",
    "        dbc.Col([\n",
    "            dcc.Graph(figure={}, id='col_histogram')\n",
    "        ], width=6)\n",
    "        ,dbc.Col([\n",
    "            dcc.Graph(figure={}, id='col_boxplot')\n",
    "        ], width=6)\n",
    "    ])\n",
    "])"
   ]
  },
  {
   "cell_type": "code",
   "execution_count": 435,
   "metadata": {},
   "outputs": [],
   "source": [
    "# Dropdown Menu Interaction\n",
    "@app.callback(\n",
    "    Output({\"type\": \"output\", \"index\": MATCH}, \"children\"),\n",
    "    [Input({\"type\": \"dropdown-item\", \"index\": MATCH}, \"n_clicks\")],\n",
    ")\n",
    "\n",
    "def update_output(n_clicks):\n",
    "    ctx = callback_context\n",
    "    if not ctx.triggered:\n",
    "        return \"Select an item.\"\n",
    "    return f\"You clicked {ctx.triggered[0]['prop_id']}\""
   ]
  },
  {
   "cell_type": "code",
   "execution_count": 436,
   "metadata": {},
   "outputs": [],
   "source": [
    "# Slider Interaction\n",
    "@callback(\n",
    "    Output('value-slider', 'min'),\n",
    "    Output('value-slider', 'max'),\n",
    "    Output('value-slider', 'marks'),\n",
    "    Output('value-slider', 'value'),\n",
    "    Input('column-dropdown', 'value')\n",
    ")\n",
    "\n",
    "def update_slider(col_chosen):\n",
    "    # Get the minimun and maximum values for the column\n",
    "    min_value = df[col_chosen].min()\n",
    "    max_value = df[col_chosen].max()\n",
    "\n",
    "    # Get the unique values for the column\n",
    "    marks = {i: str(i) for i in range(min_value, max_value + 1)}\n",
    "\n",
    "    return min_value, max_value, marks, [min_value, max_value]"
   ]
  },
  {
   "cell_type": "code",
   "execution_count": 437,
   "metadata": {},
   "outputs": [],
   "source": [
    "# # Graphs Interaction\n",
    "# @callback(\n",
    "#     [Output(component_id='col_histogram', component_property='figure'),\n",
    "#     Output(component_id='col_boxplot', component_property='figure')],\n",
    "#     [Input(component_id='column-dropdown', component_property='value'),\n",
    "#     Input('value-slider', 'value')]\n",
    "# )\n",
    "\n",
    "# def update_graph(col_chosen, value_range):\n",
    "#     min_value, max_value = value_range\n",
    "#     filtered_df = df[(df[col_chosen] >= min_value) & (df[col_chosen] <= max_value)]\n",
    "\n",
    "#     fig_hist = px.histogram(filtered_df, x=col_chosen)\n",
    "#     fig_box = px.box(filtered_df, y=col_chosen)  # TODO: change color\n",
    "    \n",
    "#     return fig_hist, fig_box"
   ]
  },
  {
   "cell_type": "code",
   "execution_count": 438,
   "metadata": {},
   "outputs": [],
   "source": [
    "# Graphs Interaction\n",
    "@callback(\n",
    "    [Output(component_id='col_histogram', component_property='figure'),\n",
    "    Output(component_id='col_boxplot', component_property='figure')],\n",
    "    [Input(component_id='column-dropdown', component_property='value')]\n",
    ")\n",
    "\n",
    "def update_graph(col_chosen):\n",
    "\n",
    "    fig_hist = px.histogram(df, x=col_chosen)\n",
    "    fig_box = px.box(df, y=col_chosen)  # TODO: change color\n",
    "    \n",
    "    return fig_hist, fig_box"
   ]
  },
  {
   "cell_type": "code",
   "execution_count": 439,
   "metadata": {},
   "outputs": [
    {
     "data": {
      "text/html": [
       "\n",
       "        <iframe\n",
       "            width=\"100%\"\n",
       "            height=\"650\"\n",
       "            src=\"http://127.0.0.1:8050/\"\n",
       "            frameborder=\"0\"\n",
       "            allowfullscreen\n",
       "            \n",
       "        ></iframe>\n",
       "        "
      ],
      "text/plain": [
       "<IPython.lib.display.IFrame at 0x794e04016570>"
      ]
     },
     "metadata": {},
     "output_type": "display_data"
    }
   ],
   "source": [
    "# Run the app\n",
    "if __name__ == '__main__':\n",
    "    app.run(debug=True)"
   ]
  }
 ],
 "metadata": {
  "kernelspec": {
   "display_name": "dm",
   "language": "python",
   "name": "python3"
  },
  "language_info": {
   "codemirror_mode": {
    "name": "ipython",
    "version": 3
   },
   "file_extension": ".py",
   "mimetype": "text/x-python",
   "name": "python",
   "nbconvert_exporter": "python",
   "pygments_lexer": "ipython3",
   "version": "3.12.5"
  }
 },
 "nbformat": 4,
 "nbformat_minor": 2
}
